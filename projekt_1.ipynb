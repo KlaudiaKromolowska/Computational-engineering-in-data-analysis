{
 "cells": [
  {
   "cell_type": "code",
   "execution_count": 82,
   "metadata": {},
   "outputs": [],
   "source": [
    "\n",
    "#Klaudia Kromołowska - kromolowska@student.agh.edu.pl\n",
    "\n",
    "#Jędrzej Kosior - jkosior@student.agh.edu.pl"
   ]
  },
  {
   "cell_type": "code",
   "execution_count": 83,
   "metadata": {},
   "outputs": [],
   "source": [
    "import os\n",
    "import librosa\n",
    "import IPython.display as ipd\n",
    "import matplotlib.pyplot as plt\n",
    "import numpy as np\n",
    "from scipy.io import wavfile\n",
    "import warnings\n",
    "\n",
    "warnings.filterwarnings(\"ignore\")"
   ]
  },
  {
   "cell_type": "code",
   "execution_count": 84,
   "metadata": {},
   "outputs": [
    {
     "name": "stdout",
     "output_type": "stream",
     "text": [
      "Requirement already satisfied: sounddevice in c:\\users\\klaud\\appdata\\local\\programs\\python\\python37\\lib\\site-packages (0.4.1)\n",
      "Requirement already satisfied: CFFI>=1.0 in c:\\users\\klaud\\appdata\\local\\programs\\python\\python37\\lib\\site-packages (from sounddevice) (1.14.5)\n",
      "Requirement already satisfied: pycparser in c:\\users\\klaud\\appdata\\local\\programs\\python\\python37\\lib\\site-packages (from CFFI>=1.0->sounddevice) (2.20)\n",
      "Requirement already satisfied: librosa in c:\\users\\klaud\\appdata\\local\\programs\\python\\python37\\lib\\site-packages (0.8.0)\n",
      "Requirement already satisfied: scipy>=1.0.0 in c:\\users\\klaud\\appdata\\local\\programs\\python\\python37\\lib\\site-packages (from librosa) (1.6.3)\n",
      "Requirement already satisfied: audioread>=2.0.0 in c:\\users\\klaud\\appdata\\local\\programs\\python\\python37\\lib\\site-packages (from librosa) (2.1.9)\n",
      "Requirement already satisfied: decorator>=3.0.0 in c:\\users\\klaud\\appdata\\local\\programs\\python\\python37\\lib\\site-packages (from librosa) (5.0.7)\n",
      "Requirement already satisfied: numba>=0.43.0 in c:\\users\\klaud\\appdata\\local\\programs\\python\\python37\\lib\\site-packages (from librosa) (0.53.1)\n",
      "Requirement already satisfied: joblib>=0.14 in c:\\users\\klaud\\appdata\\local\\programs\\python\\python37\\lib\\site-packages (from librosa) (1.0.1)\n",
      "Requirement already satisfied: numpy>=1.15.0 in c:\\users\\klaud\\appdata\\local\\programs\\python\\python37\\lib\\site-packages (from librosa) (1.19.5)\n",
      "Requirement already satisfied: scikit-learn!=0.19.0,>=0.14.0 in c:\\users\\klaud\\appdata\\local\\programs\\python\\python37\\lib\\site-packages (from librosa) (0.24.2)\n",
      "Requirement already satisfied: soundfile>=0.9.0 in c:\\users\\klaud\\appdata\\local\\programs\\python\\python37\\lib\\site-packages (from librosa) (0.10.3.post1)\n",
      "Requirement already satisfied: resampy>=0.2.2 in c:\\users\\klaud\\appdata\\local\\programs\\python\\python37\\lib\\site-packages (from librosa) (0.2.2)\n",
      "Requirement already satisfied: pooch>=1.0 in c:\\users\\klaud\\appdata\\local\\programs\\python\\python37\\lib\\site-packages (from librosa) (1.3.0)\n",
      "Requirement already satisfied: setuptools in c:\\users\\klaud\\appdata\\local\\programs\\python\\python37\\lib\\site-packages (from numba>=0.43.0->librosa) (47.1.0)\n",
      "Requirement already satisfied: llvmlite<0.37,>=0.36.0rc1 in c:\\users\\klaud\\appdata\\local\\programs\\python\\python37\\lib\\site-packages (from numba>=0.43.0->librosa) (0.36.0)\n",
      "Requirement already satisfied: packaging in c:\\users\\klaud\\appdata\\local\\programs\\python\\python37\\lib\\site-packages (from pooch>=1.0->librosa) (20.9)\n",
      "Requirement already satisfied: appdirs in c:\\users\\klaud\\appdata\\local\\programs\\python\\python37\\lib\\site-packages (from pooch>=1.0->librosa) (1.4.4)\n",
      "Requirement already satisfied: requests in c:\\users\\klaud\\appdata\\local\\programs\\python\\python37\\lib\\site-packages (from pooch>=1.0->librosa) (2.25.1)\n",
      "Requirement already satisfied: six>=1.3 in c:\\users\\klaud\\appdata\\local\\programs\\python\\python37\\lib\\site-packages (from resampy>=0.2.2->librosa) (1.15.0)\n",
      "Requirement already satisfied: threadpoolctl>=2.0.0 in c:\\users\\klaud\\appdata\\local\\programs\\python\\python37\\lib\\site-packages (from scikit-learn!=0.19.0,>=0.14.0->librosa) (2.1.0)\n",
      "Requirement already satisfied: cffi>=1.0 in c:\\users\\klaud\\appdata\\local\\programs\\python\\python37\\lib\\site-packages (from soundfile>=0.9.0->librosa) (1.14.5)\n",
      "Requirement already satisfied: pycparser in c:\\users\\klaud\\appdata\\local\\programs\\python\\python37\\lib\\site-packages (from cffi>=1.0->soundfile>=0.9.0->librosa) (2.20)\n",
      "Requirement already satisfied: pyparsing>=2.0.2 in c:\\users\\klaud\\appdata\\local\\programs\\python\\python37\\lib\\site-packages (from packaging->pooch>=1.0->librosa) (2.4.7)\n",
      "Requirement already satisfied: certifi>=2017.4.17 in c:\\users\\klaud\\appdata\\local\\programs\\python\\python37\\lib\\site-packages (from requests->pooch>=1.0->librosa) (2020.12.5)\n",
      "Requirement already satisfied: chardet<5,>=3.0.2 in c:\\users\\klaud\\appdata\\local\\programs\\python\\python37\\lib\\site-packages (from requests->pooch>=1.0->librosa) (4.0.0)\n",
      "Requirement already satisfied: urllib3<1.27,>=1.21.1 in c:\\users\\klaud\\appdata\\local\\programs\\python\\python37\\lib\\site-packages (from requests->pooch>=1.0->librosa) (1.26.4)\n",
      "Requirement already satisfied: idna<3,>=2.5 in c:\\users\\klaud\\appdata\\local\\programs\\python\\python37\\lib\\site-packages (from requests->pooch>=1.0->librosa) (2.10)\n",
      "Requirement already satisfied: kaggle in c:\\users\\klaud\\appdata\\local\\programs\\python\\python37\\lib\\site-packages (1.5.12)\n",
      "Requirement already satisfied: certifi in c:\\users\\klaud\\appdata\\local\\programs\\python\\python37\\lib\\site-packages (from kaggle) (2020.12.5)\n",
      "Requirement already satisfied: tqdm in c:\\users\\klaud\\appdata\\local\\programs\\python\\python37\\lib\\site-packages (from kaggle) (4.60.0)\n",
      "Requirement already satisfied: python-slugify in c:\\users\\klaud\\appdata\\local\\programs\\python\\python37\\lib\\site-packages (from kaggle) (5.0.0)\n",
      "Requirement already satisfied: python-dateutil in c:\\users\\klaud\\appdata\\local\\programs\\python\\python37\\lib\\site-packages (from kaggle) (2.8.1)\n",
      "Requirement already satisfied: six>=1.10 in c:\\users\\klaud\\appdata\\local\\programs\\python\\python37\\lib\\site-packages (from kaggle) (1.15.0)\n",
      "Requirement already satisfied: requests in c:\\users\\klaud\\appdata\\local\\programs\\python\\python37\\lib\\site-packages (from kaggle) (2.25.1)\n",
      "Requirement already satisfied: urllib3 in c:\\users\\klaud\\appdata\\local\\programs\\python\\python37\\lib\\site-packages (from kaggle) (1.26.4)\n",
      "Requirement already satisfied: text-unidecode>=1.3 in c:\\users\\klaud\\appdata\\local\\programs\\python\\python37\\lib\\site-packages (from python-slugify->kaggle) (1.3)\n",
      "Requirement already satisfied: idna<3,>=2.5 in c:\\users\\klaud\\appdata\\local\\programs\\python\\python37\\lib\\site-packages (from requests->kaggle) (2.10)\n",
      "Requirement already satisfied: chardet<5,>=3.0.2 in c:\\users\\klaud\\appdata\\local\\programs\\python\\python37\\lib\\site-packages (from requests->kaggle) (4.0.0)\n",
      "Requirement already satisfied: matplotlib in c:\\users\\klaud\\appdata\\local\\programs\\python\\python37\\lib\\site-packages (3.4.1)\n",
      "Requirement already satisfied: python-dateutil>=2.7 in c:\\users\\klaud\\appdata\\local\\programs\\python\\python37\\lib\\site-packages (from matplotlib) (2.8.1)\n",
      "Requirement already satisfied: cycler>=0.10 in c:\\users\\klaud\\appdata\\local\\programs\\python\\python37\\lib\\site-packages (from matplotlib) (0.10.0)\n",
      "Requirement already satisfied: kiwisolver>=1.0.1 in c:\\users\\klaud\\appdata\\local\\programs\\python\\python37\\lib\\site-packages (from matplotlib) (1.3.1)\n",
      "Requirement already satisfied: pillow>=6.2.0 in c:\\users\\klaud\\appdata\\local\\programs\\python\\python37\\lib\\site-packages (from matplotlib) (8.2.0)\n",
      "Requirement already satisfied: pyparsing>=2.2.1 in c:\\users\\klaud\\appdata\\local\\programs\\python\\python37\\lib\\site-packages (from matplotlib) (2.4.7)\n",
      "Requirement already satisfied: numpy>=1.16 in c:\\users\\klaud\\appdata\\local\\programs\\python\\python37\\lib\\site-packages (from matplotlib) (1.19.5)\n",
      "Requirement already satisfied: six in c:\\users\\klaud\\appdata\\local\\programs\\python\\python37\\lib\\site-packages (from cycler>=0.10->matplotlib) (1.15.0)\n",
      "Requirement already satisfied: keras in c:\\users\\klaud\\appdata\\local\\programs\\python\\python37\\lib\\site-packages (2.4.3)\n",
      "Requirement already satisfied: h5py in c:\\users\\klaud\\appdata\\local\\programs\\python\\python37\\lib\\site-packages (from keras) (2.10.0)\n",
      "Requirement already satisfied: scipy>=0.14 in c:\\users\\klaud\\appdata\\local\\programs\\python\\python37\\lib\\site-packages (from keras) (1.6.3)\n",
      "Requirement already satisfied: numpy>=1.9.1 in c:\\users\\klaud\\appdata\\local\\programs\\python\\python37\\lib\\site-packages (from keras) (1.19.5)\n",
      "Requirement already satisfied: pyyaml in c:\\users\\klaud\\appdata\\local\\programs\\python\\python37\\lib\\site-packages (from keras) (5.4.1)\n",
      "Requirement already satisfied: six in c:\\users\\klaud\\appdata\\local\\programs\\python\\python37\\lib\\site-packages (from h5py->keras) (1.15.0)\n",
      "Requirement already satisfied: tensorflow in c:\\users\\klaud\\appdata\\local\\programs\\python\\python37\\lib\\site-packages (2.4.1)\n",
      "Requirement already satisfied: tensorboard~=2.4 in c:\\users\\klaud\\appdata\\local\\programs\\python\\python37\\lib\\site-packages (from tensorflow) (2.5.0)\n",
      "Requirement already satisfied: astunparse~=1.6.3 in c:\\users\\klaud\\appdata\\local\\programs\\python\\python37\\lib\\site-packages (from tensorflow) (1.6.3)\n",
      "Requirement already satisfied: grpcio~=1.32.0 in c:\\users\\klaud\\appdata\\local\\programs\\python\\python37\\lib\\site-packages (from tensorflow) (1.32.0)\n",
      "Requirement already satisfied: numpy~=1.19.2 in c:\\users\\klaud\\appdata\\local\\programs\\python\\python37\\lib\\site-packages (from tensorflow) (1.19.5)\n",
      "Requirement already satisfied: google-pasta~=0.2 in c:\\users\\klaud\\appdata\\local\\programs\\python\\python37\\lib\\site-packages (from tensorflow) (0.2.0)\n",
      "Requirement already satisfied: six~=1.15.0 in c:\\users\\klaud\\appdata\\local\\programs\\python\\python37\\lib\\site-packages (from tensorflow) (1.15.0)\n",
      "Requirement already satisfied: flatbuffers~=1.12.0 in c:\\users\\klaud\\appdata\\local\\programs\\python\\python37\\lib\\site-packages (from tensorflow) (1.12)\n",
      "Requirement already satisfied: termcolor~=1.1.0 in c:\\users\\klaud\\appdata\\local\\programs\\python\\python37\\lib\\site-packages (from tensorflow) (1.1.0)\n",
      "Requirement already satisfied: tensorflow-estimator<2.5.0,>=2.4.0 in c:\\users\\klaud\\appdata\\local\\programs\\python\\python37\\lib\\site-packages (from tensorflow) (2.4.0)\n",
      "Requirement already satisfied: gast==0.3.3 in c:\\users\\klaud\\appdata\\local\\programs\\python\\python37\\lib\\site-packages (from tensorflow) (0.3.3)\n",
      "Requirement already satisfied: keras-preprocessing~=1.1.2 in c:\\users\\klaud\\appdata\\local\\programs\\python\\python37\\lib\\site-packages (from tensorflow) (1.1.2)\n",
      "Requirement already satisfied: wheel~=0.35 in c:\\users\\klaud\\appdata\\local\\programs\\python\\python37\\lib\\site-packages (from tensorflow) (0.36.2)\n",
      "Requirement already satisfied: wrapt~=1.12.1 in c:\\users\\klaud\\appdata\\local\\programs\\python\\python37\\lib\\site-packages (from tensorflow) (1.12.1)\n",
      "Requirement already satisfied: opt-einsum~=3.3.0 in c:\\users\\klaud\\appdata\\local\\programs\\python\\python37\\lib\\site-packages (from tensorflow) (3.3.0)\n",
      "Requirement already satisfied: protobuf>=3.9.2 in c:\\users\\klaud\\appdata\\local\\programs\\python\\python37\\lib\\site-packages (from tensorflow) (3.15.8)\n",
      "Requirement already satisfied: absl-py~=0.10 in c:\\users\\klaud\\appdata\\local\\programs\\python\\python37\\lib\\site-packages (from tensorflow) (0.12.0)\n",
      "Requirement already satisfied: typing-extensions~=3.7.4 in c:\\users\\klaud\\appdata\\local\\programs\\python\\python37\\lib\\site-packages (from tensorflow) (3.7.4.3)\n",
      "Requirement already satisfied: h5py~=2.10.0 in c:\\users\\klaud\\appdata\\local\\programs\\python\\python37\\lib\\site-packages (from tensorflow) (2.10.0)\n",
      "Requirement already satisfied: werkzeug>=0.11.15 in c:\\users\\klaud\\appdata\\local\\programs\\python\\python37\\lib\\site-packages (from tensorboard~=2.4->tensorflow) (1.0.1)\n",
      "Requirement already satisfied: google-auth<2,>=1.6.3 in c:\\users\\klaud\\appdata\\local\\programs\\python\\python37\\lib\\site-packages (from tensorboard~=2.4->tensorflow) (1.30.0)\n",
      "Requirement already satisfied: setuptools>=41.0.0 in c:\\users\\klaud\\appdata\\local\\programs\\python\\python37\\lib\\site-packages (from tensorboard~=2.4->tensorflow) (47.1.0)\n",
      "Requirement already satisfied: tensorboard-data-server<0.7.0,>=0.6.0 in c:\\users\\klaud\\appdata\\local\\programs\\python\\python37\\lib\\site-packages (from tensorboard~=2.4->tensorflow) (0.6.0)\n",
      "Requirement already satisfied: tensorboard-plugin-wit>=1.6.0 in c:\\users\\klaud\\appdata\\local\\programs\\python\\python37\\lib\\site-packages (from tensorboard~=2.4->tensorflow) (1.8.0)\n",
      "Requirement already satisfied: requests<3,>=2.21.0 in c:\\users\\klaud\\appdata\\local\\programs\\python\\python37\\lib\\site-packages (from tensorboard~=2.4->tensorflow) (2.25.1)\n",
      "Requirement already satisfied: google-auth-oauthlib<0.5,>=0.4.1 in c:\\users\\klaud\\appdata\\local\\programs\\python\\python37\\lib\\site-packages (from tensorboard~=2.4->tensorflow) (0.4.4)\n",
      "Requirement already satisfied: markdown>=2.6.8 in c:\\users\\klaud\\appdata\\local\\programs\\python\\python37\\lib\\site-packages (from tensorboard~=2.4->tensorflow) (3.3.4)\n",
      "Requirement already satisfied: rsa<5,>=3.1.4 in c:\\users\\klaud\\appdata\\local\\programs\\python\\python37\\lib\\site-packages (from google-auth<2,>=1.6.3->tensorboard~=2.4->tensorflow) (4.7.2)\n",
      "Requirement already satisfied: cachetools<5.0,>=2.0.0 in c:\\users\\klaud\\appdata\\local\\programs\\python\\python37\\lib\\site-packages (from google-auth<2,>=1.6.3->tensorboard~=2.4->tensorflow) (4.2.2)\n",
      "Requirement already satisfied: pyasn1-modules>=0.2.1 in c:\\users\\klaud\\appdata\\local\\programs\\python\\python37\\lib\\site-packages (from google-auth<2,>=1.6.3->tensorboard~=2.4->tensorflow) (0.2.8)\n",
      "Requirement already satisfied: requests-oauthlib>=0.7.0 in c:\\users\\klaud\\appdata\\local\\programs\\python\\python37\\lib\\site-packages (from google-auth-oauthlib<0.5,>=0.4.1->tensorboard~=2.4->tensorflow) (1.3.0)\n",
      "Requirement already satisfied: importlib-metadata in c:\\users\\klaud\\appdata\\local\\programs\\python\\python37\\lib\\site-packages (from markdown>=2.6.8->tensorboard~=2.4->tensorflow) (4.0.1)\n",
      "Requirement already satisfied: pyasn1<0.5.0,>=0.4.6 in c:\\users\\klaud\\appdata\\local\\programs\\python\\python37\\lib\\site-packages (from pyasn1-modules>=0.2.1->google-auth<2,>=1.6.3->tensorboard~=2.4->tensorflow) (0.4.8)\n",
      "Requirement already satisfied: certifi>=2017.4.17 in c:\\users\\klaud\\appdata\\local\\programs\\python\\python37\\lib\\site-packages (from requests<3,>=2.21.0->tensorboard~=2.4->tensorflow) (2020.12.5)\n",
      "Requirement already satisfied: chardet<5,>=3.0.2 in c:\\users\\klaud\\appdata\\local\\programs\\python\\python37\\lib\\site-packages (from requests<3,>=2.21.0->tensorboard~=2.4->tensorflow) (4.0.0)\n",
      "Requirement already satisfied: idna<3,>=2.5 in c:\\users\\klaud\\appdata\\local\\programs\\python\\python37\\lib\\site-packages (from requests<3,>=2.21.0->tensorboard~=2.4->tensorflow) (2.10)\n",
      "Requirement already satisfied: urllib3<1.27,>=1.21.1 in c:\\users\\klaud\\appdata\\local\\programs\\python\\python37\\lib\\site-packages (from requests<3,>=2.21.0->tensorboard~=2.4->tensorflow) (1.26.4)\n",
      "Requirement already satisfied: oauthlib>=3.0.0 in c:\\users\\klaud\\appdata\\local\\programs\\python\\python37\\lib\\site-packages (from requests-oauthlib>=0.7.0->google-auth-oauthlib<0.5,>=0.4.1->tensorboard~=2.4->tensorflow) (3.1.0)\n",
      "Requirement already satisfied: zipp>=0.5 in c:\\users\\klaud\\appdata\\local\\programs\\python\\python37\\lib\\site-packages (from importlib-metadata->markdown>=2.6.8->tensorboard~=2.4->tensorflow) (3.4.1)\n"
     ]
    }
   ],
   "source": [
    "!pip install sounddevice\n",
    "!pip install librosa\n",
    "!pip install kaggle\n",
    "!pip install matplotlib\n",
    "!pip install keras\n",
    "!pip install tensorflow"
   ]
  },
  {
   "cell_type": "code",
   "execution_count": 85,
   "metadata": {},
   "outputs": [],
   "source": [
    "DATA_DIR = \"alldatas\"\n",
    "AUDIO_ARCHIVE = \"pliki_S_R.tar.gz\"\n",
    "BEST_MODEL_PATH = \"model/best_model_{model_label}.hdf5\"\n",
    "TEST_MODE = True"
   ]
  },
  {
   "cell_type": "code",
   "execution_count": 86,
   "metadata": {},
   "outputs": [
    {
     "name": "stderr",
     "output_type": "stream",
     "text": [
      "A subdirectory or file alldatas already exists.\n"
     ]
    }
   ],
   "source": [
    "mkdir {DATA_DIR} && tar -xf {AUDIO_ARCHIVE} -C {DATA_DIR}"
   ]
  },
  {
   "cell_type": "code",
   "execution_count": 87,
   "metadata": {},
   "outputs": [
    {
     "name": "stdout",
     "output_type": "stream",
     "text": [
      "['happy', 'one', 'six', 'up', 'wow']\n"
     ]
    }
   ],
   "source": [
    "train_audio_path = 'alldatas/'\n",
    "labels=os.listdir(train_audio_path)\n",
    "words = os.listdir(DATA_DIR)\n",
    "print(words)"
   ]
  },
  {
   "cell_type": "code",
   "execution_count": 88,
   "metadata": {},
   "outputs": [
    {
     "name": "stdout",
     "output_type": "stream",
     "text": [
      "happy\n",
      "one\n",
      "six\n",
      "up\n",
      "wow\n"
     ]
    }
   ],
   "source": [
    "#PREPROCESSING\n",
    "\n",
    "all_wave = []\n",
    "all_label = []\n",
    "for label in labels:\n",
    "    print(label)\n",
    "    waves = [f for f in os.listdir(train_audio_path + '/'+ label) if f.endswith('.wav')]\n",
    "    for wav in waves:\n",
    "        samples, sample_rate = librosa.load(train_audio_path + '/' + label + '/' + wav, sr = 16000)\n",
    "        samples = librosa.resample(samples, sample_rate, 8000)\n",
    "        if(len(samples)== 8000) : \n",
    "            all_wave.append(samples)\n",
    "            all_label.append(label)"
   ]
  },
  {
   "cell_type": "code",
   "execution_count": 89,
   "metadata": {},
   "outputs": [],
   "source": [
    "from sklearn.preprocessing import LabelEncoder\n",
    "le = LabelEncoder()\n",
    "y=le.fit_transform(all_label)\n",
    "classes= list(le.classes_)"
   ]
  },
  {
   "cell_type": "code",
   "execution_count": 90,
   "metadata": {},
   "outputs": [],
   "source": [
    "from keras.utils import np_utils\n",
    "y=np_utils.to_categorical(y, num_classes=len(labels))"
   ]
  },
  {
   "cell_type": "code",
   "execution_count": 91,
   "metadata": {},
   "outputs": [],
   "source": [
    "#2D na 3D\n",
    "all_wave = np.array(all_wave).reshape(-1,8000,1)\n"
   ]
  },
  {
   "cell_type": "code",
   "execution_count": 92,
   "metadata": {},
   "outputs": [],
   "source": [
    "from sklearn.model_selection import train_test_split\n",
    "x_tr, x_val, y_tr, y_val = train_test_split(np.array(all_wave),np.array(y),stratify=y,test_size = 0.2,random_state=777,shuffle=True)"
   ]
  },
  {
   "cell_type": "code",
   "execution_count": 93,
   "metadata": {},
   "outputs": [
    {
     "name": "stdout",
     "output_type": "stream",
     "text": [
      "Model: \"model\"\n",
      "_________________________________________________________________\n",
      "Layer (type)                 Output Shape              Param #   \n",
      "=================================================================\n",
      "input_1 (InputLayer)         [(None, 8000, 1)]         0         \n",
      "_________________________________________________________________\n",
      "conv1d (Conv1D)              (None, 7988, 8)           112       \n",
      "_________________________________________________________________\n",
      "max_pooling1d (MaxPooling1D) (None, 2662, 8)           0         \n",
      "_________________________________________________________________\n",
      "dropout (Dropout)            (None, 2662, 8)           0         \n",
      "_________________________________________________________________\n",
      "conv1d_1 (Conv1D)            (None, 2652, 16)          1424      \n",
      "_________________________________________________________________\n",
      "max_pooling1d_1 (MaxPooling1 (None, 884, 16)           0         \n",
      "_________________________________________________________________\n",
      "dropout_1 (Dropout)          (None, 884, 16)           0         \n",
      "_________________________________________________________________\n",
      "conv1d_2 (Conv1D)            (None, 876, 32)           4640      \n",
      "_________________________________________________________________\n",
      "max_pooling1d_2 (MaxPooling1 (None, 292, 32)           0         \n",
      "_________________________________________________________________\n",
      "dropout_2 (Dropout)          (None, 292, 32)           0         \n",
      "_________________________________________________________________\n",
      "conv1d_3 (Conv1D)            (None, 286, 64)           14400     \n",
      "_________________________________________________________________\n",
      "max_pooling1d_3 (MaxPooling1 (None, 95, 64)            0         \n",
      "_________________________________________________________________\n",
      "dropout_3 (Dropout)          (None, 95, 64)            0         \n",
      "_________________________________________________________________\n",
      "flatten (Flatten)            (None, 6080)              0         \n",
      "_________________________________________________________________\n",
      "dense (Dense)                (None, 256)               1556736   \n",
      "_________________________________________________________________\n",
      "dropout_4 (Dropout)          (None, 256)               0         \n",
      "_________________________________________________________________\n",
      "dense_1 (Dense)              (None, 128)               32896     \n",
      "_________________________________________________________________\n",
      "dropout_5 (Dropout)          (None, 128)               0         \n",
      "_________________________________________________________________\n",
      "dense_2 (Dense)              (None, 5)                 645       \n",
      "=================================================================\n",
      "Total params: 1,610,853\n",
      "Trainable params: 1,610,853\n",
      "Non-trainable params: 0\n",
      "_________________________________________________________________\n"
     ]
    }
   ],
   "source": [
    "from keras.layers import Dense, Dropout, Flatten, Conv1D, Input, MaxPooling1D\n",
    "from keras.models import Model\n",
    "from keras.callbacks import EarlyStopping, ModelCheckpoint\n",
    "from keras import backend as K\n",
    "\n",
    "def build_model(unique_labels):\n",
    "\n",
    "    K.clear_session()\n",
    "\n",
    "    inputs = Input(shape=(8000,1))\n",
    "\n",
    "    #First Conv1D layer\n",
    "    conv = Conv1D(8,13, padding='valid', activation='relu', strides=1)(inputs)\n",
    "    conv = MaxPooling1D(3)(conv)\n",
    "    conv = Dropout(0.3)(conv)\n",
    "\n",
    "    #Second Conv1D layer\n",
    "    conv = Conv1D(16, 11, padding='valid', activation='relu', strides=1)(conv)\n",
    "    conv = MaxPooling1D(3)(conv)\n",
    "    conv = Dropout(0.3)(conv)\n",
    "\n",
    "    #Third Conv1D layer\n",
    "    conv = Conv1D(32, 9, padding='valid', activation='relu', strides=1)(conv)\n",
    "    conv = MaxPooling1D(3)(conv)\n",
    "    conv = Dropout(0.3)(conv)\n",
    "\n",
    "    #Fourth Conv1D layer\n",
    "    conv = Conv1D(64, 7, padding='valid', activation='relu', strides=1)(conv)\n",
    "    conv = MaxPooling1D(3)(conv)\n",
    "    conv = Dropout(0.3)(conv)\n",
    "\n",
    "    #Flatten layer\n",
    "    conv = Flatten()(conv)\n",
    "\n",
    "    #Dense Layer 1\n",
    "    conv = Dense(256, activation='relu')(conv)\n",
    "    conv = Dropout(0.3)(conv)\n",
    "\n",
    "    #Dense Layer 2\n",
    "    conv = Dense(128, activation='relu')(conv)\n",
    "    conv = Dropout(0.3)(conv)\n",
    "\n",
    "    outputs = Dense(len(unique_labels), activation='softmax')(conv)\n",
    "\n",
    "    model = Model(inputs, outputs)\n",
    "    return model\n",
    "\n",
    "model=build_model(labels)\n",
    "model.summary()"
   ]
  },
  {
   "cell_type": "code",
   "execution_count": 94,
   "metadata": {},
   "outputs": [
    {
     "name": "stdout",
     "output_type": "stream",
     "text": [
      "Epoch 1/3\n",
      "236/236 [==============================] - 65s 269ms/step - loss: 1.5200 - accuracy: 0.3059 - val_loss: 1.1050 - val_accuracy: 0.5339\n",
      "\n",
      "Epoch 00001: val_accuracy improved from -inf to 0.53390, saving model to best_model.hdf5\n",
      "Epoch 2/3\n",
      "236/236 [==============================] - 59s 252ms/step - loss: 1.0597 - accuracy: 0.5600 - val_loss: 0.9647 - val_accuracy: 0.6006\n",
      "\n",
      "Epoch 00002: val_accuracy improved from 0.53390 to 0.60064, saving model to best_model.hdf5\n",
      "Epoch 3/3\n",
      "236/236 [==============================] - 63s 266ms/step - loss: 0.8902 - accuracy: 0.6358 - val_loss: 0.7296 - val_accuracy: 0.7722\n",
      "\n",
      "Epoch 00003: val_accuracy improved from 0.60064 to 0.77225, saving model to best_model.hdf5\n"
     ]
    }
   ],
   "source": [
    "model.compile(loss='categorical_crossentropy',optimizer='adam',metrics=['accuracy'])\n",
    "es = EarlyStopping(monitor='val_loss', mode='min', verbose=1, patience=10, min_delta=0.0001) \n",
    "mc = ModelCheckpoint('best_model.hdf5', monitor='val_accuracy', verbose=1, save_best_only=True, mode='max')\n",
    "\n",
    "#TRENING I TESTOWANIE NA ZBIORZE WALIDACYJNYM \n",
    "history=model.fit(x_tr, y_tr ,epochs=3, callbacks=[es,mc], batch_size=32, validation_data=(x_val,y_val))\n",
    "\n"
   ]
  },
  {
   "cell_type": "code",
   "execution_count": 95,
   "metadata": {},
   "outputs": [
    {
     "data": {
      "image/png": "[encoded data removed]",
      "text/plain": [
       "<Figure size 432x288 with 1 Axes>"
      ]
     },
     "metadata": {
      "needs_background": "light"
     },
     "output_type": "display_data"
    }
   ],
   "source": [
    "#WYKRES DIAGNOSTYCZNY\n",
    "\n",
    "from matplotlib import pyplot\n",
    "pyplot.plot(history.history['loss'], label='train')\n",
    "pyplot.plot(history.history['val_loss'], label='test')\n",
    "pyplot.legend()\n",
    "pyplot.show()\n",
    "\n",
    "#ŁADOWANIE MODELU\n",
    "\n",
    "from keras.models import load_model\n",
    "model=load_model('best_model.hdf5')"
   ]
  },
  {
   "cell_type": "code",
   "execution_count": 96,
   "metadata": {},
   "outputs": [],
   "source": [
    "def predict(audio):\n",
    "    prob=model.predict(audio.reshape(-1,8000,1))\n",
    "    index=np.argmax(prob[0])\n",
    "    return classes[index]"
   ]
  },
  {
   "cell_type": "code",
   "execution_count": 97,
   "metadata": {},
   "outputs": [
    {
     "name": "stdout",
     "output_type": "stream",
     "text": [
      "Audio: one\n"
     ]
    },
    {
     "data": {
      "text/html": [
       "\n",
       "                <audio  controls=\"controls\" >\n",
       "                    <source src=\"data:audio/wav;base64,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\" type=\"audio/wav\" />\n",
       "                    Your browser does not support the audio element.\n",
       "                </audio>\n",
       "              "
      ],
      "text/plain": [
       "<IPython.lib.display.Audio object>"
      ]
     },
     "execution_count": 97,
     "metadata": {},
     "output_type": "execute_result"
    }
   ],
   "source": [
    "import random\n",
    "index=random.randint(0,len(x_val)-1)\n",
    "samples=x_val[index].ravel()\n",
    "print(\"Audio:\",classes[np.argmax(y_val[index])])\n",
    "ipd.Audio(samples, rate=8000)"
   ]
  },
  {
   "cell_type": "code",
   "execution_count": 98,
   "metadata": {},
   "outputs": [
    {
     "name": "stdout",
     "output_type": "stream",
     "text": [
      "Text: one\n"
     ]
    }
   ],
   "source": [
    "\n",
    "print(\"Text:\",predict(samples))"
   ]
  },
  {
   "cell_type": "code",
   "execution_count": 130,
   "metadata": {},
   "outputs": [
    {
     "ename": "IndexError",
     "evalue": "list index out of range",
     "output_type": "error",
     "traceback": [
      "\u001b[1;31m---------------------------------------------------------------------------\u001b[0m",
      "\u001b[1;31mIndexError\u001b[0m                                Traceback (most recent call last)",
      "\u001b[1;32m<ipython-input-130-47b3a0fa3ada>\u001b[0m in \u001b[0;36m<module>\u001b[1;34m\u001b[0m\n\u001b[0;32m     13\u001b[0m \u001b[0mpred\u001b[0m \u001b[1;33m=\u001b[0m \u001b[1;33m[\u001b[0m\u001b[0mclasses\u001b[0m\u001b[1;33m[\u001b[0m\u001b[0mnp\u001b[0m\u001b[1;33m.\u001b[0m\u001b[0margmax\u001b[0m\u001b[1;33m(\u001b[0m\u001b[0mprob\u001b[0m\u001b[1;33m[\u001b[0m\u001b[1;36m0\u001b[0m\u001b[1;33m]\u001b[0m\u001b[1;33m)\u001b[0m\u001b[1;33m]\u001b[0m \u001b[1;32mfor\u001b[0m \u001b[0msample\u001b[0m \u001b[1;32min\u001b[0m \u001b[0mX_test\u001b[0m\u001b[1;33m]\u001b[0m\u001b[1;33m\u001b[0m\u001b[1;33m\u001b[0m\u001b[0m\n\u001b[0;32m     14\u001b[0m \u001b[1;33m\u001b[0m\u001b[0m\n\u001b[1;32m---> 15\u001b[1;33m \u001b[0moriginal_labels\u001b[0m \u001b[1;33m=\u001b[0m \u001b[1;33m[\u001b[0m\u001b[0mclasses\u001b[0m\u001b[1;33m[\u001b[0m\u001b[0mnp\u001b[0m\u001b[1;33m.\u001b[0m\u001b[0margmax\u001b[0m\u001b[1;33m(\u001b[0m\u001b[0mlabel\u001b[0m\u001b[1;33m)\u001b[0m\u001b[1;33m]\u001b[0m \u001b[1;32mfor\u001b[0m \u001b[0mlabel\u001b[0m \u001b[1;32min\u001b[0m \u001b[0mY_test\u001b[0m\u001b[1;33m]\u001b[0m\u001b[1;33m\u001b[0m\u001b[1;33m\u001b[0m\u001b[0m\n\u001b[0m\u001b[0;32m     16\u001b[0m \u001b[1;33m\u001b[0m\u001b[0m\n\u001b[0;32m     17\u001b[0m \u001b[1;33m\u001b[0m\u001b[0m\n",
      "\u001b[1;32m<ipython-input-130-47b3a0fa3ada>\u001b[0m in \u001b[0;36m<listcomp>\u001b[1;34m(.0)\u001b[0m\n\u001b[0;32m     13\u001b[0m \u001b[0mpred\u001b[0m \u001b[1;33m=\u001b[0m \u001b[1;33m[\u001b[0m\u001b[0mclasses\u001b[0m\u001b[1;33m[\u001b[0m\u001b[0mnp\u001b[0m\u001b[1;33m.\u001b[0m\u001b[0margmax\u001b[0m\u001b[1;33m(\u001b[0m\u001b[0mprob\u001b[0m\u001b[1;33m[\u001b[0m\u001b[1;36m0\u001b[0m\u001b[1;33m]\u001b[0m\u001b[1;33m)\u001b[0m\u001b[1;33m]\u001b[0m \u001b[1;32mfor\u001b[0m \u001b[0msample\u001b[0m \u001b[1;32min\u001b[0m \u001b[0mX_test\u001b[0m\u001b[1;33m]\u001b[0m\u001b[1;33m\u001b[0m\u001b[1;33m\u001b[0m\u001b[0m\n\u001b[0;32m     14\u001b[0m \u001b[1;33m\u001b[0m\u001b[0m\n\u001b[1;32m---> 15\u001b[1;33m \u001b[0moriginal_labels\u001b[0m \u001b[1;33m=\u001b[0m \u001b[1;33m[\u001b[0m\u001b[0mclasses\u001b[0m\u001b[1;33m[\u001b[0m\u001b[0mnp\u001b[0m\u001b[1;33m.\u001b[0m\u001b[0margmax\u001b[0m\u001b[1;33m(\u001b[0m\u001b[0mlabel\u001b[0m\u001b[1;33m)\u001b[0m\u001b[1;33m]\u001b[0m \u001b[1;32mfor\u001b[0m \u001b[0mlabel\u001b[0m \u001b[1;32min\u001b[0m \u001b[0mY_test\u001b[0m\u001b[1;33m]\u001b[0m\u001b[1;33m\u001b[0m\u001b[1;33m\u001b[0m\u001b[0m\n\u001b[0m\u001b[0;32m     16\u001b[0m \u001b[1;33m\u001b[0m\u001b[0m\n\u001b[0;32m     17\u001b[0m \u001b[1;33m\u001b[0m\u001b[0m\n",
      "\u001b[1;31mIndexError\u001b[0m: list index out of range"
     ]
    }
   ],
   "source": [
    "#MACIERZ POMYLEK\n",
    "from sklearn.model_selection import train_test_split\n",
    "\n",
    "test_set_sizes = [40] if TEST_MODE else [500, 600, 800, 1000]\n",
    "\n",
    "X_tr, X_test, Y_tr, Y_test = train_test_split(all_label,\n",
    "                                              all_wave,stratify=all_label,\n",
    "                                              test_size = 0.2,\n",
    "                                              random_state=666,\n",
    "                                              shuffle=True)\n",
    "\n",
    "prob = predict(samples)\n",
    "pred = [classes[np.argmax(prob[0])] for sample in X_test]\n",
    "\n",
    "original_labels = [classes[np.argmax(label)] for label in Y_test] \n",
    "\n",
    "\n",
    "cm = confusion_matrix(original_labels, pred, labels = classes)\n",
    "print(cm)"
   ]
  },
  {
   "cell_type": "code",
   "execution_count": null,
   "metadata": {},
   "outputs": [],
   "source": []
  }
 ],
 "metadata": {
  "kernelspec": {
   "display_name": "Python 3",
   "language": "python",
   "name": "python3"
  },
  "language_info": {
   "codemirror_mode": {
    "name": "ipython",
    "version": 3
   },
   "file_extension": ".py",
   "mimetype": "text/x-python",
   "name": "python",
   "nbconvert_exporter": "python",
   "pygments_lexer": "ipython3",
   "version": "3.7.9"
  }
 },
 "nbformat": 4,
 "nbformat_minor": 4
}
