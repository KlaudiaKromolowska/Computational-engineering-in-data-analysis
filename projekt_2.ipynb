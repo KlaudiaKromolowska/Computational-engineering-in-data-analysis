{
  "nbformat": 4,
  "nbformat_minor": 0,
  "metadata": {
    "colab": {
      "name": "IOwADC_projekt2.ipynb",
      "provenance": [],
      "collapsed_sections": []
    },
    "kernelspec": {
      "name": "python3",
      "display_name": "Python 3"
    },
    "language_info": {
      "name": "python"
    }
  },
  "cells": [
    {
      "cell_type": "markdown",
      "metadata": {
        "id": "_QZtJmF-v5oJ"
      },
      "source": [
        "\n",
        "\n",
        "> Klaudia Kromołowska - kromolowska@student.agh.edu.pl \n",
        "\n",
        "> Jędrzej Kosior - jkosior@student.agh.edu.pl \n"
      ]
    },
    {
      "cell_type": "code",
      "metadata": {
        "id": "5ZKgnYBlvyom"
      },
      "source": [
        "# przygotowanie srodowiska\n",
        "import cv2\n",
        "import numpy as np\n",
        "import matplotlib.pyplot as plt\n",
        "from keras.datasets import mnist\n",
        "\n",
        "## [deskew]\n",
        "SZ=28\n",
        "affine_flags = cv2.WARP_INVERSE_MAP|cv2.INTER_LINEAR\n",
        "\n",
        "def deskew(img):\n",
        "    m = cv2.moments(img)\n",
        "    if abs(m['mu02']) < 1e-2:\n",
        "        return img.copy()\n",
        "    skew = m['mu11']/m['mu02']\n",
        "    M = np.float32([[1, skew, -0.5*SZ*skew], [0, 1, 0]])\n",
        "    img = cv2.warpAffine(img,M,(SZ, SZ),flags=affine_flags)\n",
        "    return img\n",
        "## [deskew]\n",
        "\n",
        "def showOpencvImage(image, isGray=False):\n",
        "    fig = plt.figure(figsize=(6, 6))\n",
        "    plt.imshow(image, cmap = 'gray')\n",
        "    plt.show()\n",
        "\n",
        "def openCVHOG(im):\n",
        "    winSize = (20,20)\n",
        "    blockSize = (10,10)\n",
        "    blockStride = (5,5)\n",
        "    cellSize = (10,10)\n",
        "    nbins = 9\n",
        "    derivAperture = 1\n",
        "    winSigma = -1.\n",
        "    histogramNormType = 0\n",
        "    L2HysThreshold = 0.2\n",
        "    gammaCorrection = 1\n",
        "    nlevels = 64\n",
        "    signedGradients = True\n",
        "\n",
        "    hog = cv2.HOGDescriptor(winSize,blockSize,blockStride,cellSize,nbins,derivAperture,winSigma,histogramNormType,L2HysThreshold,gammaCorrection,nlevels, signedGradients)\n",
        "    descriptor = np.ravel(hog.compute(im))\n",
        "    \n",
        "    return descriptor"
      ],
      "execution_count": 60,
      "outputs": []
    },
    {
      "cell_type": "markdown",
      "metadata": {
        "id": "kHNJx2Vwv4Mr"
      },
      "source": [
        "**Pobranie, przygotowanie i przekształcenie danych**"
      ]
    },
    {
      "cell_type": "code",
      "metadata": {
        "colab": {
          "base_uri": "https://localhost:8080/"
        },
        "id": "XXcNFWowxhrD",
        "outputId": "715b567e-36db-48ce-faf4-8e6d324c679c"
      },
      "source": [
        "(train_images, train_labels), (test_images, test_labels) = mnist.load_data()\n",
        "print(\"Number of images in test set: \", len(test_images))\n",
        "print(\"Number of images in train set: \", len(train_images))\n",
        "\n",
        "train_deskewed = np.asarray([deskew(im) for im in train_images])\n",
        "test_deskewed = np.asarray([deskew(im) for im in test_images])\n",
        "\n",
        "#bez wyrownania\n",
        "train_nd_hogdata = [openCVHOG(im) for im in train_images]\n",
        "train_nd_hogdata = np.float32(train_nd_hogdata).reshape(-1,81)\n",
        "test_nd_hogdata = [openCVHOG(im) for im in test_images]\n",
        "test_nd_hogdata = np.float32(test_nd_hogdata).reshape(-1,81)\n",
        "\n",
        "# z wyrownaniem\n",
        "train_d_hogdata = [openCVHOG(im) for im in train_deskewed]\n",
        "train_d_hogdata = np.float32(train_d_hogdata).reshape(-1,81)\n",
        "test_d_hogdata = [openCVHOG(im) for im in test_deskewed]\n",
        "test_d_hogdata = np.float32(test_d_hogdata).reshape(-1,81)\n",
        "\n",
        "#SIECI NEURONOWE:\n",
        " \n",
        "#bez wyrownania\n",
        "neural_train_nd = np.array(train_nd_hogdata).reshape((60000, 81))\n",
        "neural_train_nd = neural_train_nd.astype('float32') / 255\n",
        "\n",
        "neural_test_nd = np.array(test_nd_hogdata).reshape((10000, 81))\n",
        "neural_test_nd = neural_test_nd.astype('float32') / 255\n",
        "\n",
        "#z wyrowananiem\n",
        "neural_train_d = np.array(train_d_hogdata).reshape((60000, 81))\n",
        "neural_train_d = neural_train_d.astype('float32') / 255\n",
        "\n",
        "neural_test_d = np.array(test_d_hogdata).reshape((10000,81 ))\n",
        "neural_test_d = neural_test_d.astype('float32') / 255\n",
        "\n",
        "\n",
        "encoded_train_labels = to_categorical(train_labels)\n",
        "encoded_test_labels = to_categorical(test_labels)"
      ],
      "execution_count": 61,
      "outputs": [
        {
          "output_type": "stream",
          "text": [
            "Number of images in test set:  10000\n",
            "Number of images in train set:  60000\n"
          ],
          "name": "stdout"
        }
      ]
    },
    {
      "cell_type": "markdown",
      "metadata": {
        "id": "CL6weSQk1Ix2"
      },
      "source": [
        "#**TRENING KLASYCZNYCH KLASYFIKATORÓW I SIECI DLA DANYCH BEZ WYRÓWNANIA**"
      ]
    },
    {
      "cell_type": "code",
      "metadata": {
        "colab": {
          "base_uri": "https://localhost:8080/"
        },
        "id": "fIGPoW3j01QN",
        "outputId": "a65766a0-8411-4bbe-d8a9-4f233e8a1b30"
      },
      "source": [
        "# SVM\n",
        "\n",
        "from sklearn import svm\n",
        "from sklearn.model_selection import GridSearchCV\n",
        "from sklearn.metrics import classification_report, confusion_matrix\n",
        "\n",
        "parameters = {'kernel':('linear', 'poly', 'rbf', 'sigmoid'), 'C':[0.1, 1, 2, 5]}\n",
        "model = GridSearchCV(svm.SVC(), parameters, cv=5, scoring='accuracy', return_train_score=True)\n",
        "#model = svm.SVC(C=15.5,gamma=0.7)\n",
        "model = model.fit(train_nd_hogdata[0:600,:],train_labels[0:600])\n",
        "pred_labels = model.predict(test_nd_hogdata[600:1000,:])\n",
        "\n",
        "mask = pred_labels==test_labels[600:1000]\n",
        "\n",
        "correct = np.count_nonzero(mask)\n",
        "print(\"Correct: \", correct*100.0/pred_labels.size)\n",
        "\n",
        "cm = confusion_matrix(test_labels[600:1000], pred_labels)\n",
        "print(cm)\n",
        "print(classification_report(test_labels[600:1000], pred_labels))"
      ],
      "execution_count": 62,
      "outputs": [
        {
          "output_type": "stream",
          "text": [
            "Correct:  89.25\n",
            "[[31  0  0  0  0  1  0  0  0  0]\n",
            " [ 0 53  0  0  0  0  0  0  0  0]\n",
            " [ 0  1 44  0  0  0  0  5  1  1]\n",
            " [ 0  0  2 41  0  2  0  0  0  0]\n",
            " [ 0  0  0  0 42  0  0  0  0  1]\n",
            " [ 0  1  0  0  0 27  0  0  1  2]\n",
            " [ 0  0  0  0  0  0 35  0  0  0]\n",
            " [ 0  0  5  4  0  1  0 31  0  1]\n",
            " [ 1  0  0  1  0  2  1  3 24  5]\n",
            " [ 0  0  1  0  0  0  0  0  0 29]]\n",
            "              precision    recall  f1-score   support\n",
            "\n",
            "           0       0.97      0.97      0.97        32\n",
            "           1       0.96      1.00      0.98        53\n",
            "           2       0.85      0.85      0.85        52\n",
            "           3       0.89      0.91      0.90        45\n",
            "           4       1.00      0.98      0.99        43\n",
            "           5       0.82      0.87      0.84        31\n",
            "           6       0.97      1.00      0.99        35\n",
            "           7       0.79      0.74      0.77        42\n",
            "           8       0.92      0.65      0.76        37\n",
            "           9       0.74      0.97      0.84        30\n",
            "\n",
            "    accuracy                           0.89       400\n",
            "   macro avg       0.89      0.89      0.89       400\n",
            "weighted avg       0.90      0.89      0.89       400\n",
            "\n"
          ],
          "name": "stdout"
        }
      ]
    },
    {
      "cell_type": "code",
      "metadata": {
        "colab": {
          "base_uri": "https://localhost:8080/"
        },
        "id": "SuKacvpj3oHF",
        "outputId": "acaab7df-391a-421c-fa99-33c031c6c44e"
      },
      "source": [
        "# RANDOOM FOREST CLASSIFIER\n",
        "\n",
        "from sklearn.ensemble import RandomForestClassifier\n",
        "parameters = {'n_estimators':[50, 80,150], 'max_depth': [2,40,80, None]}\n",
        "rfc = GridSearchCV(RandomForestClassifier(), parameters, cv=5, scoring='accuracy')\n",
        "rfc = rfc.fit(train_nd_hogdata[0:600,:],train_labels[0:600])\n",
        "\n",
        "pred_labels = rfc.predict(test_nd_hogdata[600:1000,:])\n",
        "mask = pred_labels==test_labels[600:1000]\n",
        "\n",
        "correct = np.count_nonzero(mask)\n",
        "print(\"Correct: \", correct*100.0/pred_labels.size)\n",
        "\n",
        "cm = confusion_matrix(test_labels[600:1000], pred_labels)\n",
        "print(cm)\n",
        "print(classification_report(test_labels[600:1000], pred_labels))\n"
      ],
      "execution_count": 63,
      "outputs": [
        {
          "output_type": "stream",
          "text": [
            "Correct:  89.0\n",
            "[[30  0  0  0  1  1  0  0  0  0]\n",
            " [ 0 51  0  0  0  1  0  1  0  0]\n",
            " [ 0  1 45  0  0  0  0  4  0  2]\n",
            " [ 0  0  0 44  0  1  0  0  0  0]\n",
            " [ 0  0  0  0 39  1  2  0  0  1]\n",
            " [ 0  1  0  0  0 29  0  1  0  0]\n",
            " [ 1  0  0  0  0  1 33  0  0  0]\n",
            " [ 1  0  3  6  0  2  0 30  0  0]\n",
            " [ 1  0  1  0  0  3  1  0 26  5]\n",
            " [ 0  0  1  0  0  0  0  0  0 29]]\n",
            "              precision    recall  f1-score   support\n",
            "\n",
            "           0       0.91      0.94      0.92        32\n",
            "           1       0.96      0.96      0.96        53\n",
            "           2       0.90      0.87      0.88        52\n",
            "           3       0.88      0.98      0.93        45\n",
            "           4       0.97      0.91      0.94        43\n",
            "           5       0.74      0.94      0.83        31\n",
            "           6       0.92      0.94      0.93        35\n",
            "           7       0.83      0.71      0.77        42\n",
            "           8       1.00      0.70      0.83        37\n",
            "           9       0.78      0.97      0.87        30\n",
            "\n",
            "    accuracy                           0.89       400\n",
            "   macro avg       0.89      0.89      0.89       400\n",
            "weighted avg       0.90      0.89      0.89       400\n",
            "\n"
          ],
          "name": "stdout"
        }
      ]
    },
    {
      "cell_type": "code",
      "metadata": {
        "colab": {
          "base_uri": "https://localhost:8080/"
        },
        "id": "duE3ssoq4voN",
        "outputId": "04108f89-ac5d-4ce1-dd36-dcce700e6d77"
      },
      "source": [
        "#NEURAL NETWORK\n",
        "from keras.datasets import mnist\n",
        "from keras import models\n",
        "from keras import layers\n",
        "from sklearn.metrics import classification_report, confusion_matrix, accuracy_score\n",
        "\n",
        "def makeModel():\n",
        "  network = models.Sequential()\n",
        "  network.add(layers.Dense(512, activation='relu', input_shape=(81,)))\n",
        "  network.add(layers.Dense(10, activation='softmax'))\n",
        "  network.compile(optimizer='rmsprop',\n",
        "                  loss='categorical_crossentropy',\n",
        "                  metrics=['accuracy'])\n",
        "  return network\n",
        "\n",
        "model = KerasClassifier(makeModel, verbose = 0)\n",
        "\n",
        "\n",
        "parameters = dict(batch_size=[5,20,50], epochs = [15])\n",
        "network = GridSearchCV(estimator=model, param_grid=parameters, n_jobs=-1, cv=3)\n",
        "network.fit(neural_train_nd, encoded_train_labels)\n",
        "\n",
        "pred= network.predict(neural_test_nd[600:1000,])\n",
        "test_acc=accuracy_score(test_labels[600:1000], pred)\n",
        "print(\"Correct: \", test_acc*100)\n",
        "cm = confusion_matrix(test_labels[600:1000], pred)\n",
        "print(cm)\n",
        "print(classification_report(test_labels[600:1000], pred))\n",
        "\n"
      ],
      "execution_count": 64,
      "outputs": [
        {
          "output_type": "stream",
          "text": [
            "Correct:  91.25\n",
            "[[29  0  0  0  0  1  1  0  0  1]\n",
            " [ 0 52  0  0  1  0  0  0  0  0]\n",
            " [ 0  1 48  0  0  0  0  2  1  0]\n",
            " [ 0  0  2 42  0  1  0  0  0  0]\n",
            " [ 0  0  0  0 41  0  1  0  0  1]\n",
            " [ 0  0  0  1  0 27  0  0  1  2]\n",
            " [ 1  0  0  0  0  0 34  0  0  0]\n",
            " [ 1  0  7  3  0  1  0 29  0  1]\n",
            " [ 0  0  1  0  0  2  0  0 33  1]\n",
            " [ 0  0  0  0  0  0  0  0  0 30]]\n",
            "              precision    recall  f1-score   support\n",
            "\n",
            "           0       0.94      0.91      0.92        32\n",
            "           1       0.98      0.98      0.98        53\n",
            "           2       0.83      0.92      0.87        52\n",
            "           3       0.91      0.93      0.92        45\n",
            "           4       0.98      0.95      0.96        43\n",
            "           5       0.84      0.87      0.86        31\n",
            "           6       0.94      0.97      0.96        35\n",
            "           7       0.94      0.69      0.79        42\n",
            "           8       0.94      0.89      0.92        37\n",
            "           9       0.83      1.00      0.91        30\n",
            "\n",
            "    accuracy                           0.91       400\n",
            "   macro avg       0.91      0.91      0.91       400\n",
            "weighted avg       0.92      0.91      0.91       400\n",
            "\n"
          ],
          "name": "stdout"
        },
        {
          "output_type": "stream",
          "text": [
            "/usr/local/lib/python3.7/dist-packages/tensorflow/python/keras/engine/sequential.py:450: UserWarning: `model.predict_classes()` is deprecated and will be removed after 2021-01-01. Please use instead:* `np.argmax(model.predict(x), axis=-1)`,   if your model does multi-class classification   (e.g. if it uses a `softmax` last-layer activation).* `(model.predict(x) > 0.5).astype(\"int32\")`,   if your model does binary classification   (e.g. if it uses a `sigmoid` last-layer activation).\n",
            "  warnings.warn('`model.predict_classes()` is deprecated and '\n"
          ],
          "name": "stderr"
        }
      ]
    },
    {
      "cell_type": "markdown",
      "metadata": {
        "id": "ciHOEO2O1fkn"
      },
      "source": [
        "#**TRENING KLASYCZNYCH KLASYFIKATORÓW I SIECI DLA DANYCH Z WYRÓWNANIEM**"
      ]
    },
    {
      "cell_type": "code",
      "metadata": {
        "colab": {
          "base_uri": "https://localhost:8080/"
        },
        "id": "r11SGhvl_gYN",
        "outputId": "2297efd1-562d-4a0d-e614-532460e19b30"
      },
      "source": [
        "# SVM\n",
        "\n",
        "from sklearn import svm\n",
        "from sklearn.metrics import classification_report, confusion_matrix\n",
        "\n",
        "parameters = {'kernel':('linear', 'poly', 'rbf', 'sigmoid'), 'C':[0.1, 1, 2, 5]}\n",
        "model = GridSearchCV(svm.SVC(), parameters, cv=5, scoring='accuracy', return_train_score=True)\n",
        "#model = svm.SVC(C=15.5,gamma=0.7)\n",
        "model = model.fit(train_d_hogdata[0:600,:],train_labels[0:600])\n",
        "pred_labels = model.predict(test_d_hogdata[600:1000,:])\n",
        "\n",
        "mask = pred_labels==test_labels[600:1000]\n",
        "\n",
        "correct = np.count_nonzero(mask)\n",
        "print(\"Correct: \", correct*100.0/pred_labels.size)\n",
        "\n",
        "cm = confusion_matrix(test_labels[600:1000], pred_labels)\n",
        "print(cm)\n",
        "print(classification_report(test_labels[600:1000], pred_labels))"
      ],
      "execution_count": 65,
      "outputs": [
        {
          "output_type": "stream",
          "text": [
            "Correct:  91.0\n",
            "[[32  0  0  0  0  0  0  0  0  0]\n",
            " [ 0 52  0  0  0  0  0  1  0  0]\n",
            " [ 0  1 48  0  0  0  0  2  1  0]\n",
            " [ 0  0  4 36  0  2  0  0  2  1]\n",
            " [ 0  0  0  0 42  0  0  1  0  0]\n",
            " [ 0  0  0  0  0 29  0  1  1  0]\n",
            " [ 0  0  0  0  0  0 35  0  0  0]\n",
            " [ 1  0  4  4  0  1  0 32  0  0]\n",
            " [ 0  0  1  0  0  2  0  0 31  3]\n",
            " [ 0  0  1  0  0  0  0  2  0 27]]\n",
            "              precision    recall  f1-score   support\n",
            "\n",
            "           0       0.97      1.00      0.98        32\n",
            "           1       0.98      0.98      0.98        53\n",
            "           2       0.83      0.92      0.87        52\n",
            "           3       0.90      0.80      0.85        45\n",
            "           4       1.00      0.98      0.99        43\n",
            "           5       0.85      0.94      0.89        31\n",
            "           6       1.00      1.00      1.00        35\n",
            "           7       0.82      0.76      0.79        42\n",
            "           8       0.89      0.84      0.86        37\n",
            "           9       0.87      0.90      0.89        30\n",
            "\n",
            "    accuracy                           0.91       400\n",
            "   macro avg       0.91      0.91      0.91       400\n",
            "weighted avg       0.91      0.91      0.91       400\n",
            "\n"
          ],
          "name": "stdout"
        }
      ]
    },
    {
      "cell_type": "code",
      "metadata": {
        "colab": {
          "base_uri": "https://localhost:8080/"
        },
        "id": "iiixaytB_psa",
        "outputId": "338412b4-90a9-4f0e-b7bb-80d66ba1cc2b"
      },
      "source": [
        "# RANDOOM FOREST CLASSIFIER\n",
        "\n",
        "from sklearn.ensemble import RandomForestClassifier\n",
        "\n",
        "parameters = {'n_estimators':[50, 80,150], 'max_depth': [2,40,80, None]}\n",
        "rfc = GridSearchCV(RandomForestClassifier(), parameters, cv=5, scoring='accuracy')\n",
        "#rfc =  RandomForestClassifier(max_depth=15, n_estimators=100, max_features=60)\n",
        "rfc = rfc.fit(train_d_hogdata[0:600,:],train_labels[0:600])\n",
        "\n",
        "pred_labels = rfc.predict(test_d_hogdata[600:1000,:])\n",
        "mask = pred_labels==test_labels[600:1000]\n",
        "\n",
        "correct = np.count_nonzero(mask)\n",
        "print(\"Correct: \", correct*100.0/pred_labels.size)\n",
        "\n",
        "cm = confusion_matrix(test_labels[600:1000], pred_labels)\n",
        "print(cm)\n",
        "print(classification_report(test_labels[600:1000], pred_labels))\n"
      ],
      "execution_count": 66,
      "outputs": [
        {
          "output_type": "stream",
          "text": [
            "Correct:  88.5\n",
            "[[30  0  0  0  0  1  1  0  0  0]\n",
            " [ 0 52  0  0  0  0  0  1  0  0]\n",
            " [ 0  1 47  0  0  1  0  2  0  1]\n",
            " [ 0  0  0 40  0  1  0  1  3  0]\n",
            " [ 0  0  0  0 42  0  0  0  0  1]\n",
            " [ 1  0  0  1  0 28  0  0  1  0]\n",
            " [ 1  0  0  0  0  0 34  0  0  0]\n",
            " [ 1  0  6  4  1  0  0 30  0  0]\n",
            " [ 1  0  1  1  0  2  0  0 24  8]\n",
            " [ 0  0  1  0  1  0  0  1  0 27]]\n",
            "              precision    recall  f1-score   support\n",
            "\n",
            "           0       0.88      0.94      0.91        32\n",
            "           1       0.98      0.98      0.98        53\n",
            "           2       0.85      0.90      0.88        52\n",
            "           3       0.87      0.89      0.88        45\n",
            "           4       0.95      0.98      0.97        43\n",
            "           5       0.85      0.90      0.88        31\n",
            "           6       0.97      0.97      0.97        35\n",
            "           7       0.86      0.71      0.78        42\n",
            "           8       0.86      0.65      0.74        37\n",
            "           9       0.73      0.90      0.81        30\n",
            "\n",
            "    accuracy                           0.89       400\n",
            "   macro avg       0.88      0.88      0.88       400\n",
            "weighted avg       0.89      0.89      0.88       400\n",
            "\n"
          ],
          "name": "stdout"
        }
      ]
    },
    {
      "cell_type": "code",
      "metadata": {
        "colab": {
          "base_uri": "https://localhost:8080/"
        },
        "id": "3A0m2ygV_y4H",
        "outputId": "71f604fb-179e-46b7-84e4-0cfe75097ed3"
      },
      "source": [
        "#NEURAL NETWORK\n",
        "from keras.datasets import mnist\n",
        "from keras import models\n",
        "from keras import layers\n",
        "from sklearn.metrics import classification_report, confusion_matrix\n",
        "\n",
        "model = KerasClassifier(makeModel, verbose = 0)\n",
        "\n",
        "\n",
        "parameters = dict(batch_size=[5,20,50], epochs = [15])\n",
        "network = GridSearchCV(estimator=model, param_grid=parameters, n_jobs=-1, cv=3)\n",
        "network.fit(neural_train_d, encoded_train_labels)\n",
        "\n",
        "pred= network.predict(neural_test_d[600:1000,])\n",
        "test_acc=accuracy_score(test_labels[600:1000], pred)\n",
        "print(\"Correct: \", test_acc*100)\n",
        "cm = confusion_matrix(test_labels[600:1000], pred)\n",
        "print(cm)\n",
        "print(classification_report(test_labels[600:1000], pred))\n",
        "\n"
      ],
      "execution_count": 67,
      "outputs": [
        {
          "output_type": "stream",
          "text": [
            "Correct:  95.5\n",
            "[[32  0  0  0  0  0  0  0  0  0]\n",
            " [ 0 52  0  0  1  0  0  0  0  0]\n",
            " [ 0  1 47  0  0  0  0  2  2  0]\n",
            " [ 0  0  0 44  0  1  0  0  0  0]\n",
            " [ 0  0  0  0 42  0  0  1  0  0]\n",
            " [ 0  0  0  0  0 30  0  1  0  0]\n",
            " [ 0  0  0  0  0  0 35  0  0  0]\n",
            " [ 0  0  0  5  0  0  0 36  0  1]\n",
            " [ 0  0  0  0  0  2  0  0 34  1]\n",
            " [ 0  0  0  0  0  0  0  0  0 30]]\n",
            "              precision    recall  f1-score   support\n",
            "\n",
            "           0       1.00      1.00      1.00        32\n",
            "           1       0.98      0.98      0.98        53\n",
            "           2       1.00      0.90      0.95        52\n",
            "           3       0.90      0.98      0.94        45\n",
            "           4       0.98      0.98      0.98        43\n",
            "           5       0.91      0.97      0.94        31\n",
            "           6       1.00      1.00      1.00        35\n",
            "           7       0.90      0.86      0.88        42\n",
            "           8       0.94      0.92      0.93        37\n",
            "           9       0.94      1.00      0.97        30\n",
            "\n",
            "    accuracy                           0.95       400\n",
            "   macro avg       0.95      0.96      0.96       400\n",
            "weighted avg       0.96      0.95      0.95       400\n",
            "\n"
          ],
          "name": "stdout"
        },
        {
          "output_type": "stream",
          "text": [
            "/usr/local/lib/python3.7/dist-packages/tensorflow/python/keras/engine/sequential.py:450: UserWarning: `model.predict_classes()` is deprecated and will be removed after 2021-01-01. Please use instead:* `np.argmax(model.predict(x), axis=-1)`,   if your model does multi-class classification   (e.g. if it uses a `softmax` last-layer activation).* `(model.predict(x) > 0.5).astype(\"int32\")`,   if your model does binary classification   (e.g. if it uses a `sigmoid` last-layer activation).\n",
            "  warnings.warn('`model.predict_classes()` is deprecated and '\n"
          ],
          "name": "stderr"
        }
      ]
    },
    {
      "cell_type": "markdown",
      "metadata": {
        "id": "6r7svT5VCwg4"
      },
      "source": [
        "# **TRENING KLASYCZNYCH KLASYFIKATORÓW DLA DANYCH SUROWYCH WGRANYCH NA WEJŚCIE KLASYFIKATORA**"
      ]
    },
    {
      "cell_type": "code",
      "metadata": {
        "id": "lJfGrxDNCydH"
      },
      "source": [
        "#przygotowanie danych\n",
        "\n",
        "train_reshaped = np.float32(train_deskewed).reshape(-1,28*28)\n",
        "test_reshaped = np.float32(test_deskewed).reshape(-1,28*28)\n",
        "\n",
        "neural_train_reshaped = np.array(train_deskewed).reshape((60000, 28*28))\n",
        "neural_train_reshaped = neural_train_reshaped.astype('float32') / 255\n",
        "\n",
        "neural_test_reshaped = np.array(test_deskewed).reshape((10000, 28*28))\n",
        "neural_test_reshaped = neural_test_reshaped.astype('float32') / 255\n"
      ],
      "execution_count": 68,
      "outputs": []
    },
    {
      "cell_type": "code",
      "metadata": {
        "colab": {
          "base_uri": "https://localhost:8080/"
        },
        "id": "ISd08ye3C8P5",
        "outputId": "ac72e4c2-284e-4ec9-9e88-abec0448cabc"
      },
      "source": [
        "# SVM\n",
        "\n",
        "from sklearn import svm\n",
        "from sklearn.metrics import classification_report, confusion_matrix\n",
        "\n",
        "\n",
        "parameters = {'kernel':('linear', 'poly', 'rbf', 'sigmoid'), 'C':[0.1, 1, 2, 5]}\n",
        "model = GridSearchCV(svm.SVC(), parameters, cv=5, scoring='accuracy', return_train_score=True)\n",
        "#model = svm.SVC(C=15.5,gamma=0.7)\n",
        "model = model.fit(train_reshaped[0:600,:],train_labels[0:600])\n",
        "pred_labels = model.predict(test_reshaped[600:1000,:])\n",
        "\n",
        "mask = pred_labels==test_labels[600:1000]\n",
        "\n",
        "correct = np.count_nonzero(mask)\n",
        "print(\"Correct: \", correct*100.0/pred_labels.size)\n",
        "\n",
        "cm = confusion_matrix(test_labels[600:1000], pred_labels)\n",
        "print(cm)\n",
        "print(classification_report(test_labels[600:1000], pred_labels))"
      ],
      "execution_count": 72,
      "outputs": [
        {
          "output_type": "stream",
          "text": [
            "Correct:  90.75\n",
            "[[30  0  1  0  0  1  0  0  0  0]\n",
            " [ 0 53  0  0  0  0  0  0  0  0]\n",
            " [ 1  0 48  0  0  0  0  1  2  0]\n",
            " [ 0  0  1 36  0  6  0  0  1  1]\n",
            " [ 0  0  0  0 38  0  1  0  0  4]\n",
            " [ 1  0  0  0  0 29  0  1  0  0]\n",
            " [ 1  0  2  0  0  0 32  0  0  0]\n",
            " [ 0  0  1  0  2  0  0 38  0  1]\n",
            " [ 1  0  0  1  0  4  0  0 31  0]\n",
            " [ 1  0  0  0  0  0  0  1  0 28]]\n",
            "              precision    recall  f1-score   support\n",
            "\n",
            "           0       0.86      0.94      0.90        32\n",
            "           1       1.00      1.00      1.00        53\n",
            "           2       0.91      0.92      0.91        52\n",
            "           3       0.97      0.80      0.88        45\n",
            "           4       0.95      0.88      0.92        43\n",
            "           5       0.72      0.94      0.82        31\n",
            "           6       0.97      0.91      0.94        35\n",
            "           7       0.93      0.90      0.92        42\n",
            "           8       0.91      0.84      0.87        37\n",
            "           9       0.82      0.93      0.87        30\n",
            "\n",
            "    accuracy                           0.91       400\n",
            "   macro avg       0.90      0.91      0.90       400\n",
            "weighted avg       0.91      0.91      0.91       400\n",
            "\n"
          ],
          "name": "stdout"
        }
      ]
    },
    {
      "cell_type": "code",
      "metadata": {
        "colab": {
          "base_uri": "https://localhost:8080/"
        },
        "id": "C9ZsDhKSQfGN",
        "outputId": "a2a169e8-3fd0-46df-f17c-86d1cc1c4327"
      },
      "source": [
        "# RANDOOM FOREST CLASSIFIER\n",
        "\n",
        "from sklearn.ensemble import RandomForestClassifier\n",
        "\n",
        "parameters = {'n_estimators':[50, 80,150], 'max_depth': [2,40,80, None]}\n",
        "rfc = GridSearchCV(RandomForestClassifier(), parameters, cv=5, scoring='accuracy')\n",
        "#rfc =  RandomForestClassifier(max_depth=15, n_estimators=100, max_features=60)\n",
        "rfc = rfc.fit(train_reshaped[0:600,:],train_labels[0:600])\n",
        "\n",
        "pred_labels = rfc.predict(test_reshaped[600:1000,:])\n",
        "mask = pred_labels==test_labels[600:1000]\n",
        "\n",
        "correct = np.count_nonzero(mask)\n",
        "print(\"Correct: \", correct*100.0/pred_labels.size)\n",
        "\n",
        "cm = confusion_matrix(test_labels[600:1000], pred_labels)\n",
        "print(cm)\n",
        "print(classification_report(test_labels[600:1000], pred_labels))\n"
      ],
      "execution_count": 70,
      "outputs": [
        {
          "output_type": "stream",
          "text": [
            "Correct:  87.25\n",
            "[[30  0  0  0  0  1  1  0  0  0]\n",
            " [ 0 53  0  0  0  0  0  0  0  0]\n",
            " [ 0  0 47  0  0  0  1  1  3  0]\n",
            " [ 0  0  1 38  0  3  0  0  1  2]\n",
            " [ 0  0  0  0 33  1  1  0  0  8]\n",
            " [ 1  0  0  0  1 26  0  2  0  1]\n",
            " [ 1  0  1  0  1  0 32  0  0  0]\n",
            " [ 0  2  4  0  1  0  0 33  0  2]\n",
            " [ 3  0  0  0  0  2  0  0 31  1]\n",
            " [ 0  0  0  0  2  0  0  2  0 26]]\n",
            "              precision    recall  f1-score   support\n",
            "\n",
            "           0       0.86      0.94      0.90        32\n",
            "           1       0.96      1.00      0.98        53\n",
            "           2       0.89      0.90      0.90        52\n",
            "           3       1.00      0.84      0.92        45\n",
            "           4       0.87      0.77      0.81        43\n",
            "           5       0.79      0.84      0.81        31\n",
            "           6       0.91      0.91      0.91        35\n",
            "           7       0.87      0.79      0.82        42\n",
            "           8       0.89      0.84      0.86        37\n",
            "           9       0.65      0.87      0.74        30\n",
            "\n",
            "    accuracy                           0.87       400\n",
            "   macro avg       0.87      0.87      0.87       400\n",
            "weighted avg       0.88      0.87      0.87       400\n",
            "\n"
          ],
          "name": "stdout"
        }
      ]
    },
    {
      "cell_type": "code",
      "metadata": {
        "colab": {
          "base_uri": "https://localhost:8080/"
        },
        "id": "J8avsTwJRK2c",
        "outputId": "eb932004-86c8-4d44-e7e3-df101c476a9f"
      },
      "source": [
        "#NEURAL NETWORK\n",
        "from keras.datasets import mnist\n",
        "from keras import models\n",
        "from keras import layers\n",
        "from sklearn.metrics import classification_report, confusion_matrix\n",
        "\n",
        "def makeModelN():\n",
        "  network = models.Sequential()\n",
        "  network.add(layers.Dense(512, activation='relu', input_shape=(28*28,)))\n",
        "  network.add(layers.Dense(10, activation='softmax'))\n",
        "  network.compile(optimizer='rmsprop',\n",
        "                  loss='categorical_crossentropy',\n",
        "                  metrics=['accuracy'])\n",
        "  return network\n",
        "\n",
        "\n",
        "model = KerasClassifier(makeModelN, verbose = 0)\n",
        "\n",
        "\n",
        "parameters = dict(batch_size=[5], epochs = [15])\n",
        "network = GridSearchCV(estimator=model, param_grid=parameters, n_jobs=-1, cv=3)\n",
        "network.fit(neural_train_reshaped[0:600,], encoded_train_labels[0:600])\n",
        "\n",
        "pred= network.predict(neural_test_reshaped[600:1000,])\n",
        "test_acc=accuracy_score(test_labels[600:1000], pred)\n",
        "print(\"Correct: \", test_acc*100)\n",
        "cm = confusion_matrix(test_labels[600:1000], pred)\n",
        "print(cm)\n",
        "print(classification_report(test_labels[600:1000], pred))\n",
        "\n"
      ],
      "execution_count": 71,
      "outputs": [
        {
          "output_type": "stream",
          "text": [
            "Correct:  89.75\n",
            "[[31  0  0  1  0  0  0  0  0  0]\n",
            " [ 0 52  0  0  0  0  1  0  0  0]\n",
            " [ 1  1 47  1  0  0  0  1  1  0]\n",
            " [ 0  2  1 36  0  4  0  0  0  2]\n",
            " [ 0  0  0  0 39  0  1  0  0  3]\n",
            " [ 1  0  0  0  1 25  1  3  0  0]\n",
            " [ 2  0  0  0  1  1 31  0  0  0]\n",
            " [ 0  0  0  0  1  0  0 40  0  1]\n",
            " [ 2  0  0  0  0  0  0  1 32  2]\n",
            " [ 1  0  0  0  0  0  0  3  0 26]]\n",
            "              precision    recall  f1-score   support\n",
            "\n",
            "           0       0.82      0.97      0.89        32\n",
            "           1       0.95      0.98      0.96        53\n",
            "           2       0.98      0.90      0.94        52\n",
            "           3       0.95      0.80      0.87        45\n",
            "           4       0.93      0.91      0.92        43\n",
            "           5       0.83      0.81      0.82        31\n",
            "           6       0.91      0.89      0.90        35\n",
            "           7       0.83      0.95      0.89        42\n",
            "           8       0.97      0.86      0.91        37\n",
            "           9       0.76      0.87      0.81        30\n",
            "\n",
            "    accuracy                           0.90       400\n",
            "   macro avg       0.89      0.89      0.89       400\n",
            "weighted avg       0.90      0.90      0.90       400\n",
            "\n"
          ],
          "name": "stdout"
        },
        {
          "output_type": "stream",
          "text": [
            "/usr/local/lib/python3.7/dist-packages/tensorflow/python/keras/engine/sequential.py:450: UserWarning: `model.predict_classes()` is deprecated and will be removed after 2021-01-01. Please use instead:* `np.argmax(model.predict(x), axis=-1)`,   if your model does multi-class classification   (e.g. if it uses a `softmax` last-layer activation).* `(model.predict(x) > 0.5).astype(\"int32\")`,   if your model does binary classification   (e.g. if it uses a `sigmoid` last-layer activation).\n",
            "  warnings.warn('`model.predict_classes()` is deprecated and '\n"
          ],
          "name": "stderr"
        }
      ]
    }
  ]
}